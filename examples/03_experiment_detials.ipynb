{
 "cells": [
  {
   "cell_type": "markdown",
   "metadata": {},
   "source": [
    "In Quick Start, we learned the basics of HyperTS modeling:"
   ]
  },
  {
   "cell_type": "code",
   "execution_count": null,
   "metadata": {
    "collapsed": true
   },
   "outputs": [],
   "source": [
    "from hyperts.experiment import make_experiment\n",
    "from hyperts.datasets import load_network_traffic\n",
    "from sklearn.model_selection import train_test_split\n",
    "\n",
    "df = load_network_traffic()\n",
    "train_data, test_data = train_test_split(df, test_size=168, shuffle=False)\n",
    "\n",
    "experiment = make_experiment(train_data,\n",
    "                            task='forecast',\n",
    "                            timestamp='TimeStamp',\n",
    "                            covariables=['HourSin', 'WeekCos', 'CBWD'])\n",
    "model = experiment.run()\n",
    "\n",
    "X_test, y_test = model.split_X_y(test_data)\n",
    "forecast = model.predict(X_test)\n",
    "scores = model.evaluate(y_true=y_test, y_pred=forecast)"
   ]
  },
  {
   "cell_type": "markdown",
   "metadata": {},
   "source": [
    "To get a better understanding of HyperTS, this NoteBook will go through the ```make_experiment``` tutorial in more detail, so you can explore more robust performance."
   ]
  },
  {
   "cell_type": "markdown",
   "metadata": {},
   "source": [
    "1. Create a experiment by default.\n",
    "2. Select operation mode.\n",
    "3. Specify the evaluation metrics.\n",
    "4. Specify optimization direction.\n",
    "5. Set the maximum search trials.\n",
    "6. Set early stoping.\n",
    "7. Specify the validation data set.\n",
    "8. Specify search algorithm.\n",
    "9. Specify time frequency.\n",
    "10. Specify forecast window.\n",
    "11. Fixed random seed.\n",
    "12. Adjusting a log level."
   ]
  },
  {
   "cell_type": "markdown",
   "metadata": {},
   "source": [
    "#### 1. Create a experiment by default."
   ]
  },
  {
   "cell_type": "code",
   "execution_count": null,
   "metadata": {},
   "outputs": [],
   "source": [
    "# Forecast\n",
    "experiment = make_experiment(train_data, \n",
    "                             task='forecast',\n",
    "                             timestamp='TimeStamp',\n",
    "                             covariables=['HourSin', 'WeekCos', 'CBWD'])\n",
    "# Classification\n",
    "experiment = make_experiment(train_data, task='classification', target='y')  \n",
    "\n",
    "# Regression\n",
    "experiment = make_experiment(train_data, task='regression', target='y')  "
   ]
  },
  {
   "cell_type": "markdown",
   "metadata": {},
   "source": [
    "#### 2. Select operation mode."
   ]
  },
  {
   "cell_type": "code",
   "execution_count": null,
   "metadata": {},
   "outputs": [],
   "source": [
    "experiment = make_experiment(train_data, \n",
    "                             mode='dl',\n",
    "                             ...)"
   ]
  },
  {
   "cell_type": "code",
   "execution_count": null,
   "metadata": {},
   "outputs": [],
   "source": [
    "experiment = make_experiment(train_data, \n",
    "                             mode='dl',\n",
    "                             dl_gpu_usage_strategy=1,\n",
    "                             ...)  "
   ]
  },
  {
   "cell_type": "markdown",
   "metadata": {},
   "source": [
    "#### 3. Specify the evaluation metrics."
   ]
  },
  {
   "cell_type": "code",
   "execution_count": null,
   "metadata": {},
   "outputs": [],
   "source": [
    "# str\n",
    "experiment = make_experiment(train_data, \n",
    "                             task='univariate-binaryclass',\n",
    "                             reward_metric='auc',\n",
    "                             ...)  \n",
    "\n",
    "# sklearn.metrics\n",
    "from sklearn.metrics import auc\n",
    "experiment = make_experiment(train_data, \n",
    "                             task='univariate-binaryclass',\n",
    "                             reward_metric=auc,\n",
    "                             ...) "
   ]
  },
  {
   "cell_type": "markdown",
   "metadata": {},
   "source": [
    "#### 4. Specify optimization direction."
   ]
  },
  {
   "cell_type": "code",
   "execution_count": null,
   "metadata": {},
   "outputs": [],
   "source": [
    "experiment = make_experiment(train_data, \n",
    "                             task='univariate-binaryclass',\n",
    "                             reward_metric='auc',\n",
    "                             optimize_direction='max',\n",
    "                             ...)  "
   ]
  },
  {
   "cell_type": "markdown",
   "metadata": {},
   "source": [
    "#### 5. Set the maximum search trials."
   ]
  },
  {
   "cell_type": "code",
   "execution_count": null,
   "metadata": {},
   "outputs": [],
   "source": [
    "experiment = make_experiment(train_data, \n",
    "                             max_trials=100,\n",
    "                             ...) "
   ]
  },
  {
   "cell_type": "markdown",
   "metadata": {},
   "source": [
    "#### 6. Set early stoping."
   ]
  },
  {
   "cell_type": "code",
   "execution_count": null,
   "metadata": {},
   "outputs": [],
   "source": [
    "experiment = make_experiment(train_data, \n",
    "                             max_trials=100,\n",
    "                             early_stopping_time_limit=3600 * 3,  # 3 hours\n",
    "                             ...)    "
   ]
  },
  {
   "cell_type": "markdown",
   "metadata": {},
   "source": [
    "#### 7. Specify the validation data set."
   ]
  },
  {
   "cell_type": "code",
   "execution_count": null,
   "metadata": {},
   "outputs": [],
   "source": [
    "experiment = make_experiment(train_data, \n",
    "                             eval_data=eval_data,\n",
    "                             ...) "
   ]
  },
  {
   "cell_type": "code",
   "execution_count": null,
   "metadata": {},
   "outputs": [],
   "source": [
    "experiment = make_experiment(train_data, \n",
    "                             eval_size=0.3,\n",
    "                             ...) "
   ]
  },
  {
   "cell_type": "markdown",
   "metadata": {},
   "source": [
    "#### 8. Specify search algorithm."
   ]
  },
  {
   "cell_type": "code",
   "execution_count": null,
   "metadata": {},
   "outputs": [],
   "source": [
    "experiment = make_experiment(train_data, \n",
    "                             searcher='random',\n",
    "                             ...)  "
   ]
  },
  {
   "cell_type": "code",
   "execution_count": null,
   "metadata": {},
   "outputs": [],
   "source": [
    "from hypernets.searchers import EvolutionSearcher\n",
    "\n",
    "search_space_general = ...\n",
    "\n",
    "experiment = make_experiment(train_data, \n",
    "                             searcher=EvolutionSearcher(search_space_general, population_size=500, sample_size=20, candidates_size=20),\n",
    "                             ...)  "
   ]
  },
  {
   "cell_type": "markdown",
   "metadata": {},
   "source": [
    "#### 9. Specify time frequency."
   ]
  },
  {
   "cell_type": "code",
   "execution_count": null,
   "metadata": {},
   "outputs": [],
   "source": [
    "experiment = make_experiment(train_data, \n",
    "                             task='forecast',\n",
    "                             timestamp='TimeStamp',\n",
    "                             freq='H',\n",
    "                             ...) "
   ]
  },
  {
   "cell_type": "markdown",
   "metadata": {},
   "source": [
    "#### 10. Specify forecast window."
   ]
  },
  {
   "cell_type": "code",
   "execution_count": null,
   "metadata": {},
   "outputs": [],
   "source": [
    "experiment = make_experiment(train_data, \n",
    "                             task='forecast',\n",
    "                             mode='dl',\n",
    "                             timestamp='TimeStamp',\n",
    "                             forecast_window=24*7,\n",
    "                             ...)"
   ]
  },
  {
   "cell_type": "markdown",
   "metadata": {},
   "source": [
    "#### 11. Fixed random seed."
   ]
  },
  {
   "cell_type": "code",
   "execution_count": null,
   "metadata": {},
   "outputs": [],
   "source": [
    "experiment = make_experiment(train_data, \n",
    "                             random_state=0,\n",
    "                             ...)  "
   ]
  },
  {
   "cell_type": "markdown",
   "metadata": {},
   "source": [
    "#### 12. Adjusting a log level."
   ]
  },
  {
   "cell_type": "code",
   "execution_count": null,
   "metadata": {},
   "outputs": [],
   "source": [
    "experiment = make_experiment(train_data, \n",
    "                             log_level='INFO', \n",
    "                             verbose=1,\n",
    "                             ...)  "
   ]
  }
 ],
 "metadata": {
  "kernelspec": {
   "display_name": "Python 3 (ipykernel)",
   "language": "python",
   "name": "python3"
  },
  "language_info": {
   "codemirror_mode": {
    "name": "ipython",
    "version": 3
   },
   "file_extension": ".py",
   "mimetype": "text/x-python",
   "name": "python",
   "nbconvert_exporter": "python",
   "pygments_lexer": "ipython3",
   "version": "3.7.3"
  }
 },
 "nbformat": 4,
 "nbformat_minor": 1
}
