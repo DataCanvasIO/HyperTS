{
 "cells": [
  {
   "cell_type": "code",
   "execution_count": 1,
   "metadata": {},
   "outputs": [],
   "source": [
    "from hyperts import HyperTS\n",
    "\n",
    "from hyperts.utils import consts, get_tool_box\n",
    "from hyperts.datasets import load_basic_motions"
   ]
  },
  {
   "cell_type": "markdown",
   "metadata": {},
   "source": [
    "#### 1. Load Data"
   ]
  },
  {
   "cell_type": "code",
   "execution_count": 2,
   "metadata": {},
   "outputs": [],
   "source": [
    "df = load_basic_motions()"
   ]
  },
  {
   "cell_type": "markdown",
   "metadata": {},
   "source": [
    "#### 2. Look at the data"
   ]
  },
  {
   "cell_type": "code",
   "execution_count": 3,
   "metadata": {},
   "outputs": [
    {
     "data": {
      "text/html": [
       "<div>\n",
       "<style scoped>\n",
       "    .dataframe tbody tr th:only-of-type {\n",
       "        vertical-align: middle;\n",
       "    }\n",
       "\n",
       "    .dataframe tbody tr th {\n",
       "        vertical-align: top;\n",
       "    }\n",
       "\n",
       "    .dataframe thead th {\n",
       "        text-align: right;\n",
       "    }\n",
       "</style>\n",
       "<table border=\"1\" class=\"dataframe\">\n",
       "  <thead>\n",
       "    <tr style=\"text-align: right;\">\n",
       "      <th></th>\n",
       "      <th>Var_1</th>\n",
       "      <th>Var_2</th>\n",
       "      <th>Var_3</th>\n",
       "      <th>Var_4</th>\n",
       "      <th>Var_5</th>\n",
       "      <th>Var_6</th>\n",
       "      <th>target</th>\n",
       "    </tr>\n",
       "  </thead>\n",
       "  <tbody>\n",
       "    <tr>\n",
       "      <th>0</th>\n",
       "      <td>0     0.079106\n",
       "1     0.079106\n",
       "2    -0.903497\n",
       "3...</td>\n",
       "      <td>0     0.394032\n",
       "1     0.394032\n",
       "2    -3.666397\n",
       "3...</td>\n",
       "      <td>0     0.551444\n",
       "1     0.551444\n",
       "2    -0.282844\n",
       "3...</td>\n",
       "      <td>0     0.351565\n",
       "1     0.351565\n",
       "2    -0.095881\n",
       "3...</td>\n",
       "      <td>0     0.023970\n",
       "1     0.023970\n",
       "2    -0.319605\n",
       "3...</td>\n",
       "      <td>0     0.633883\n",
       "1     0.633883\n",
       "2     0.972131\n",
       "3...</td>\n",
       "      <td>standing</td>\n",
       "    </tr>\n",
       "    <tr>\n",
       "      <th>1</th>\n",
       "      <td>0     0.377751\n",
       "1     0.377751\n",
       "2     2.952965\n",
       "3...</td>\n",
       "      <td>0    -0.610850\n",
       "1    -0.610850\n",
       "2     0.970717\n",
       "3...</td>\n",
       "      <td>0    -0.147376\n",
       "1    -0.147376\n",
       "2    -5.962515\n",
       "3...</td>\n",
       "      <td>0    -0.103872\n",
       "1    -0.103872\n",
       "2    -7.593275\n",
       "3...</td>\n",
       "      <td>0    -0.109198\n",
       "1    -0.109198\n",
       "2    -0.697804\n",
       "3...</td>\n",
       "      <td>0    -0.037287\n",
       "1    -0.037287\n",
       "2    -2.865789\n",
       "3...</td>\n",
       "      <td>standing</td>\n",
       "    </tr>\n",
       "    <tr>\n",
       "      <th>2</th>\n",
       "      <td>0    -0.813905\n",
       "1    -0.813905\n",
       "2    -0.424628\n",
       "3...</td>\n",
       "      <td>0     0.825666\n",
       "1     0.825666\n",
       "2    -1.305033\n",
       "3...</td>\n",
       "      <td>0     0.032712\n",
       "1     0.032712\n",
       "2     0.826170\n",
       "3...</td>\n",
       "      <td>0     0.021307\n",
       "1     0.021307\n",
       "2    -0.372872\n",
       "3...</td>\n",
       "      <td>0     0.122515\n",
       "1     0.122515\n",
       "2    -0.045277\n",
       "3...</td>\n",
       "      <td>0     0.775041\n",
       "1     0.775041\n",
       "2     0.383526\n",
       "3...</td>\n",
       "      <td>standing</td>\n",
       "    </tr>\n",
       "    <tr>\n",
       "      <th>3</th>\n",
       "      <td>0     0.289855\n",
       "1     0.289855\n",
       "2    -0.669185\n",
       "3...</td>\n",
       "      <td>0     0.284130\n",
       "1     0.284130\n",
       "2    -0.210466\n",
       "3...</td>\n",
       "      <td>0     0.213680\n",
       "1     0.213680\n",
       "2     0.252267\n",
       "3...</td>\n",
       "      <td>0    -0.314278\n",
       "1    -0.314278\n",
       "2     0.018644\n",
       "3...</td>\n",
       "      <td>0     0.074574\n",
       "1     0.074574\n",
       "2     0.007990\n",
       "3...</td>\n",
       "      <td>0    -0.079901\n",
       "1    -0.079901\n",
       "2     0.237040\n",
       "3...</td>\n",
       "      <td>standing</td>\n",
       "    </tr>\n",
       "    <tr>\n",
       "      <th>4</th>\n",
       "      <td>0    -0.123238\n",
       "1    -0.123238\n",
       "2    -0.249547\n",
       "3...</td>\n",
       "      <td>0     0.379341\n",
       "1     0.379341\n",
       "2     0.541501\n",
       "3...</td>\n",
       "      <td>0    -0.286006\n",
       "1    -0.286006\n",
       "2     0.208420\n",
       "3...</td>\n",
       "      <td>0    -0.098545\n",
       "1    -0.098545\n",
       "2    -0.023970\n",
       "3...</td>\n",
       "      <td>0     0.058594\n",
       "1     0.058594\n",
       "2     0.175783\n",
       "3...</td>\n",
       "      <td>0    -0.074574\n",
       "1    -0.074574\n",
       "2     0.114525\n",
       "3...</td>\n",
       "      <td>standing</td>\n",
       "    </tr>\n",
       "  </tbody>\n",
       "</table>\n",
       "</div>"
      ],
      "text/plain": [
       "                                               Var_1  \\\n",
       "0  0     0.079106\n",
       "1     0.079106\n",
       "2    -0.903497\n",
       "3...   \n",
       "1  0     0.377751\n",
       "1     0.377751\n",
       "2     2.952965\n",
       "3...   \n",
       "2  0    -0.813905\n",
       "1    -0.813905\n",
       "2    -0.424628\n",
       "3...   \n",
       "3  0     0.289855\n",
       "1     0.289855\n",
       "2    -0.669185\n",
       "3...   \n",
       "4  0    -0.123238\n",
       "1    -0.123238\n",
       "2    -0.249547\n",
       "3...   \n",
       "\n",
       "                                               Var_2  \\\n",
       "0  0     0.394032\n",
       "1     0.394032\n",
       "2    -3.666397\n",
       "3...   \n",
       "1  0    -0.610850\n",
       "1    -0.610850\n",
       "2     0.970717\n",
       "3...   \n",
       "2  0     0.825666\n",
       "1     0.825666\n",
       "2    -1.305033\n",
       "3...   \n",
       "3  0     0.284130\n",
       "1     0.284130\n",
       "2    -0.210466\n",
       "3...   \n",
       "4  0     0.379341\n",
       "1     0.379341\n",
       "2     0.541501\n",
       "3...   \n",
       "\n",
       "                                               Var_3  \\\n",
       "0  0     0.551444\n",
       "1     0.551444\n",
       "2    -0.282844\n",
       "3...   \n",
       "1  0    -0.147376\n",
       "1    -0.147376\n",
       "2    -5.962515\n",
       "3...   \n",
       "2  0     0.032712\n",
       "1     0.032712\n",
       "2     0.826170\n",
       "3...   \n",
       "3  0     0.213680\n",
       "1     0.213680\n",
       "2     0.252267\n",
       "3...   \n",
       "4  0    -0.286006\n",
       "1    -0.286006\n",
       "2     0.208420\n",
       "3...   \n",
       "\n",
       "                                               Var_4  \\\n",
       "0  0     0.351565\n",
       "1     0.351565\n",
       "2    -0.095881\n",
       "3...   \n",
       "1  0    -0.103872\n",
       "1    -0.103872\n",
       "2    -7.593275\n",
       "3...   \n",
       "2  0     0.021307\n",
       "1     0.021307\n",
       "2    -0.372872\n",
       "3...   \n",
       "3  0    -0.314278\n",
       "1    -0.314278\n",
       "2     0.018644\n",
       "3...   \n",
       "4  0    -0.098545\n",
       "1    -0.098545\n",
       "2    -0.023970\n",
       "3...   \n",
       "\n",
       "                                               Var_5  \\\n",
       "0  0     0.023970\n",
       "1     0.023970\n",
       "2    -0.319605\n",
       "3...   \n",
       "1  0    -0.109198\n",
       "1    -0.109198\n",
       "2    -0.697804\n",
       "3...   \n",
       "2  0     0.122515\n",
       "1     0.122515\n",
       "2    -0.045277\n",
       "3...   \n",
       "3  0     0.074574\n",
       "1     0.074574\n",
       "2     0.007990\n",
       "3...   \n",
       "4  0     0.058594\n",
       "1     0.058594\n",
       "2     0.175783\n",
       "3...   \n",
       "\n",
       "                                               Var_6    target  \n",
       "0  0     0.633883\n",
       "1     0.633883\n",
       "2     0.972131\n",
       "3...  standing  \n",
       "1  0    -0.037287\n",
       "1    -0.037287\n",
       "2    -2.865789\n",
       "3...  standing  \n",
       "2  0     0.775041\n",
       "1     0.775041\n",
       "2     0.383526\n",
       "3...  standing  \n",
       "3  0    -0.079901\n",
       "1    -0.079901\n",
       "2     0.237040\n",
       "3...  standing  \n",
       "4  0    -0.074574\n",
       "1    -0.074574\n",
       "2     0.114525\n",
       "3...  standing  "
      ]
     },
     "execution_count": 3,
     "metadata": {},
     "output_type": "execute_result"
    }
   ],
   "source": [
    "df.head()"
   ]
  },
  {
   "cell_type": "markdown",
   "metadata": {},
   "source": [
    "#### 3. Simple EDA"
   ]
  },
  {
   "cell_type": "code",
   "execution_count": 4,
   "metadata": {},
   "outputs": [
    {
     "data": {
      "text/plain": [
       "array(['standing', 'running', 'walking', 'badminton'], dtype=object)"
      ]
     },
     "execution_count": 4,
     "metadata": {},
     "output_type": "execute_result"
    }
   ],
   "source": [
    "df.target.unique()"
   ]
  },
  {
   "cell_type": "code",
   "execution_count": 5,
   "metadata": {},
   "outputs": [
    {
     "data": {
      "text/plain": [
       "((80, 7), (100,))"
      ]
     },
     "execution_count": 5,
     "metadata": {},
     "output_type": "execute_result"
    }
   ],
   "source": [
    "df.shape, df.Var_1.iloc[0].shape"
   ]
  },
  {
   "cell_type": "code",
   "execution_count": 6,
   "metadata": {},
   "outputs": [
    {
     "data": {
      "image/png": "[encoded data removed]",
      "text/plain": [
       "<Figure size 432x288 with 1 Axes>"
      ]
     },
     "metadata": {
      "needs_background": "light"
     },
     "output_type": "display_data"
    }
   ],
   "source": [
    "for i in range(6):\n",
    "    df[f'Var_{i+1}'].iloc[0].plot()"
   ]
  },
  {
   "cell_type": "markdown",
   "metadata": {},
   "source": [
    "#### From the above data, we can find that the problem is a 4 classification task, ['standing', 'running', 'walking', 'badminton'], 80 samples, 6 variables, ['Var_1', 'Var_2', 'Var_3', 'Var_4', 'Var_5', 'Var_6', ], and each cell contains a time serie with a length of 100."
   ]
  },
  {
   "cell_type": "markdown",
   "metadata": {},
   "source": [
    "#### 4. Split train_data and test_data"
   ]
  },
  {
   "cell_type": "code",
   "execution_count": 7,
   "metadata": {},
   "outputs": [],
   "source": [
    "tb = get_tool_box(df)\n",
    "train_df, test_df = tb.random_train_test_split(df, test_size=0.2)"
   ]
  },
  {
   "cell_type": "markdown",
   "metadata": {},
   "source": [
    "#### 5. Configure some parameters and initialize HyperTS. For details, see HyperTS comments."
   ]
  },
  {
   "cell_type": "code",
   "execution_count": 8,
   "metadata": {},
   "outputs": [],
   "source": [
    "model = HyperTS(train_data=train_df.copy(),\n",
    "                mode='dl',\n",
    "                target='target',\n",
    "                task=consts.Task_CLASSIFICATION,\n",
    "                reward_metric=consts.Metric_ACCURACY,\n",
    "                optimize_direction=consts.OptimizeDirection_MAXIMIZE,\n",
    "                dl_gpu_usage_strategy=0, # CPU\n",
    "               )"
   ]
  },
  {
   "cell_type": "markdown",
   "metadata": {},
   "source": [
    "#### 6. Fit model (Train)"
   ]
  },
  {
   "cell_type": "code",
   "execution_count": 9,
   "metadata": {},
   "outputs": [
    {
     "data": {
      "text/markdown": [
       "### Input Data"
      ]
     },
     "metadata": {},
     "output_type": "display_data"
    },
    {
     "data": {
      "text/html": [
       "<div>\n",
       "<style scoped>\n",
       "    .dataframe tbody tr th:only-of-type {\n",
       "        vertical-align: middle;\n",
       "    }\n",
       "\n",
       "    .dataframe tbody tr th {\n",
       "        vertical-align: top;\n",
       "    }\n",
       "\n",
       "    .dataframe thead th {\n",
       "        text-align: right;\n",
       "    }\n",
       "</style>\n",
       "<table border=\"1\" class=\"dataframe\">\n",
       "  <thead>\n",
       "    <tr style=\"text-align: right;\">\n",
       "      <th></th>\n",
       "      <th>X_train.shape</th>\n",
       "      <th>y_train.shape</th>\n",
       "      <th>X_eval.shape</th>\n",
       "      <th>y_eval.shape</th>\n",
       "      <th>X_test.shape</th>\n",
       "      <th>Task</th>\n",
       "    </tr>\n",
       "  </thead>\n",
       "  <tbody>\n",
       "    <tr>\n",
       "      <th>0</th>\n",
       "      <td>(64, 6)</td>\n",
       "      <td>(64,)</td>\n",
       "      <td>None</td>\n",
       "      <td>None</td>\n",
       "      <td>None</td>\n",
       "      <td>multivariate-multiclass(4)</td>\n",
       "    </tr>\n",
       "  </tbody>\n",
       "</table>\n",
       "</div>"
      ],
      "text/plain": [
       "  X_train.shape y_train.shape X_eval.shape y_eval.shape X_test.shape  \\\n",
       "0       (64, 6)         (64,)         None         None         None   \n",
       "\n",
       "                         Task  \n",
       "0  multivariate-multiclass(4)  "
      ]
     },
     "metadata": {},
     "output_type": "display_data"
    },
    {
     "data": {
      "image/png": "[encoded data removed]",
      "text/plain": [
       "<Figure size 640x320 with 1 Axes>"
      ]
     },
     "metadata": {
      "needs_background": "light"
     },
     "output_type": "display_data"
    },
    {
     "data": {
      "text/markdown": [
       "## Data Preprocessing"
      ]
     },
     "metadata": {},
     "output_type": "display_data"
    },
    {
     "data": {
      "text/markdown": [
       "### Initliazed parameters"
      ]
     },
     "metadata": {},
     "output_type": "display_data"
    },
    {
     "data": {
      "text/html": [
       "<div>\n",
       "<style scoped>\n",
       "    .dataframe tbody tr th:only-of-type {\n",
       "        vertical-align: middle;\n",
       "    }\n",
       "\n",
       "    .dataframe tbody tr th {\n",
       "        vertical-align: top;\n",
       "    }\n",
       "\n",
       "    .dataframe thead th {\n",
       "        text-align: right;\n",
       "    }\n",
       "</style>\n",
       "<table border=\"1\" class=\"dataframe\">\n",
       "  <thead>\n",
       "    <tr style=\"text-align: right;\">\n",
       "      <th></th>\n",
       "      <th>key</th>\n",
       "      <th>value</th>\n",
       "    </tr>\n",
       "  </thead>\n",
       "  <tbody>\n",
       "    <tr>\n",
       "      <th>0</th>\n",
       "      <td>cv</td>\n",
       "      <td>False</td>\n",
       "    </tr>\n",
       "    <tr>\n",
       "      <th>1</th>\n",
       "      <td>data_cleaner_args</td>\n",
       "      <td>{'drop_label_nan_rows': True}</td>\n",
       "    </tr>\n",
       "    <tr>\n",
       "      <th>2</th>\n",
       "      <td>name</td>\n",
       "      <td>data_preprocessing</td>\n",
       "    </tr>\n",
       "  </tbody>\n",
       "</table>\n",
       "</div>"
      ],
      "text/plain": [
       "                 key                          value\n",
       "0                 cv                          False\n",
       "1  data_cleaner_args  {'drop_label_nan_rows': True}\n",
       "2               name             data_preprocessing"
      ]
     },
     "metadata": {},
     "output_type": "display_data"
    },
    {
     "data": {
      "text/markdown": [
       "### Fitted parameters"
      ]
     },
     "metadata": {},
     "output_type": "display_data"
    },
    {
     "data": {
      "text/html": [
       "<div>\n",
       "<style scoped>\n",
       "    .dataframe tbody tr th:only-of-type {\n",
       "        vertical-align: middle;\n",
       "    }\n",
       "\n",
       "    .dataframe tbody tr th {\n",
       "        vertical-align: top;\n",
       "    }\n",
       "\n",
       "    .dataframe thead th {\n",
       "        text-align: right;\n",
       "    }\n",
       "</style>\n",
       "<table border=\"1\" class=\"dataframe\">\n",
       "  <thead>\n",
       "    <tr style=\"text-align: right;\">\n",
       "      <th></th>\n",
       "      <th>key</th>\n",
       "      <th>value</th>\n",
       "    </tr>\n",
       "  </thead>\n",
       "  <tbody>\n",
       "    <tr>\n",
       "      <th>0</th>\n",
       "      <td>input_features</td>\n",
       "      <td>[Var_1, Var_2, Var_3, Var_4, Var_5, Var_6]</td>\n",
       "    </tr>\n",
       "    <tr>\n",
       "      <th>1</th>\n",
       "      <td>X_train.shape</td>\n",
       "      <td>(51, 6)</td>\n",
       "    </tr>\n",
       "    <tr>\n",
       "      <th>2</th>\n",
       "      <td>y_train.shape</td>\n",
       "      <td>(51,)</td>\n",
       "    </tr>\n",
       "    <tr>\n",
       "      <th>3</th>\n",
       "      <td>X_eval.shape</td>\n",
       "      <td>(13, 6)</td>\n",
       "    </tr>\n",
       "    <tr>\n",
       "      <th>4</th>\n",
       "      <td>y_eval.shape</td>\n",
       "      <td>(13,)</td>\n",
       "    </tr>\n",
       "    <tr>\n",
       "      <th>5</th>\n",
       "      <td>X_test.shape</td>\n",
       "      <td>None</td>\n",
       "    </tr>\n",
       "  </tbody>\n",
       "</table>\n",
       "</div>"
      ],
      "text/plain": [
       "              key                                       value\n",
       "0  input_features  [Var_1, Var_2, Var_3, Var_4, Var_5, Var_6]\n",
       "1   X_train.shape                                     (51, 6)\n",
       "2   y_train.shape                                       (51,)\n",
       "3    X_eval.shape                                     (13, 6)\n",
       "4    y_eval.shape                                       (13,)\n",
       "5    X_test.shape                                        None"
      ]
     },
     "metadata": {},
     "output_type": "display_data"
    },
    {
     "data": {
      "text/markdown": [
       "### Elapsed"
      ]
     },
     "metadata": {},
     "output_type": "display_data"
    },
    {
     "data": {
      "text/markdown": [
       "* 0.023 seconds"
      ]
     },
     "metadata": {},
     "output_type": "display_data"
    },
    {
     "data": {
      "text/markdown": [
       "## Space Searching"
      ]
     },
     "metadata": {},
     "output_type": "display_data"
    },
    {
     "data": {
      "text/markdown": [
       "### Initliazed parameters"
      ]
     },
     "metadata": {},
     "output_type": "display_data"
    },
    {
     "data": {
      "text/html": [
       "<div>\n",
       "<style scoped>\n",
       "    .dataframe tbody tr th:only-of-type {\n",
       "        vertical-align: middle;\n",
       "    }\n",
       "\n",
       "    .dataframe tbody tr th {\n",
       "        vertical-align: top;\n",
       "    }\n",
       "\n",
       "    .dataframe thead th {\n",
       "        text-align: right;\n",
       "    }\n",
       "</style>\n",
       "<table border=\"1\" class=\"dataframe\">\n",
       "  <thead>\n",
       "    <tr style=\"text-align: right;\">\n",
       "      <th></th>\n",
       "      <th>key</th>\n",
       "      <th>value</th>\n",
       "    </tr>\n",
       "  </thead>\n",
       "  <tbody>\n",
       "    <tr>\n",
       "      <th>0</th>\n",
       "      <td>name</td>\n",
       "      <td>space_searching</td>\n",
       "    </tr>\n",
       "  </tbody>\n",
       "</table>\n",
       "</div>"
      ],
      "text/plain": [
       "    key            value\n",
       "0  name  space_searching"
      ]
     },
     "metadata": {},
     "output_type": "display_data"
    },
    {
     "data": {
      "text/markdown": [
       "#### Experiment Settings:"
      ]
     },
     "metadata": {},
     "output_type": "display_data"
    },
    {
     "data": {
      "text/plain": [
       "HyperTS(searcher=EvolutionSearcher(space_fn=DLClassificationSearchSpace(task='multivariate-multiclass', metrics=['accuracy']), population_size=30, sample_size=10, regularized=True, optimize_direction='max', random_state=RandomState(MT19937) at 0x27D56C1C678), task='multivariate-multiclass', mode='dl', callbacks=[EarlyStoppingCallback(max_no_improvement_trials=10, mode='max', time_limit=3600), NotebookCallback(), ProgressiveCallback()], discriminator=OncePercentileDiscriminator(percentile=50, history=TrialHistory(direction='max'), optimize_direction='max'), clear_cache=None)"
      ]
     },
     "metadata": {},
     "output_type": "display_data"
    },
    {
     "data": {
      "text/html": [
       "<div>\n",
       "<style scoped>\n",
       "    .dataframe tbody tr th:only-of-type {\n",
       "        vertical-align: middle;\n",
       "    }\n",
       "\n",
       "    .dataframe tbody tr th {\n",
       "        vertical-align: top;\n",
       "    }\n",
       "\n",
       "    .dataframe thead th {\n",
       "        text-align: right;\n",
       "    }\n",
       "</style>\n",
       "<table border=\"1\" class=\"dataframe\">\n",
       "  <thead>\n",
       "    <tr style=\"text-align: right;\">\n",
       "      <th></th>\n",
       "      <th>X</th>\n",
       "      <th>y</th>\n",
       "      <th>X_eval</th>\n",
       "      <th>y_eval</th>\n",
       "      <th>cv</th>\n",
       "      <th>num_folds</th>\n",
       "      <th>max_trials</th>\n",
       "      <th>fit_kwargs</th>\n",
       "    </tr>\n",
       "  </thead>\n",
       "  <tbody>\n",
       "    <tr>\n",
       "      <th>0</th>\n",
       "      <td>(51, 6)</td>\n",
       "      <td>(51,)</td>\n",
       "      <td>(13, 6)</td>\n",
       "      <td>(13,)</td>\n",
       "      <td>False</td>\n",
       "      <td>3</td>\n",
       "      <td>3</td>\n",
       "      <td>(eval_set)</td>\n",
       "    </tr>\n",
       "  </tbody>\n",
       "</table>\n",
       "</div>"
      ],
      "text/plain": [
       "         X      y   X_eval y_eval     cv  num_folds  max_trials  fit_kwargs\n",
       "0  (51, 6)  (51,)  (13, 6)  (13,)  False          3           3  (eval_set)"
      ]
     },
     "metadata": {},
     "output_type": "display_data"
    },
    {
     "data": {
      "text/markdown": [
       "#### Trials Summary:"
      ]
     },
     "metadata": {},
     "output_type": "display_data"
    },
    {
     "data": {
      "text/html": [
       "<div>\n",
       "<style scoped>\n",
       "    .dataframe tbody tr th:only-of-type {\n",
       "        vertical-align: middle;\n",
       "    }\n",
       "\n",
       "    .dataframe tbody tr th {\n",
       "        vertical-align: top;\n",
       "    }\n",
       "\n",
       "    .dataframe thead th {\n",
       "        text-align: right;\n",
       "    }\n",
       "</style>\n",
       "<table border=\"1\" class=\"dataframe\">\n",
       "  <thead>\n",
       "    <tr style=\"text-align: right;\">\n",
       "      <th></th>\n",
       "      <th>Trial No.</th>\n",
       "      <th>Previous reward</th>\n",
       "      <th>Best trial</th>\n",
       "      <th>Best reward</th>\n",
       "      <th>Total elapsed</th>\n",
       "      <th>Valid trials</th>\n",
       "      <th>Max trials</th>\n",
       "    </tr>\n",
       "  </thead>\n",
       "  <tbody>\n",
       "    <tr>\n",
       "      <th>0</th>\n",
       "      <td>3</td>\n",
       "      <td>0.769231</td>\n",
       "      <td>1</td>\n",
       "      <td>1.0</td>\n",
       "      <td>132.563251</td>\n",
       "      <td>3</td>\n",
       "      <td>3</td>\n",
       "    </tr>\n",
       "  </tbody>\n",
       "</table>\n",
       "</div>"
      ],
      "text/plain": [
       "   Trial No.  Previous reward  Best trial  Best reward  Total elapsed  \\\n",
       "0          3         0.769231           1          1.0     132.563251   \n",
       "\n",
       "   Valid trials  Max trials  \n",
       "0             3           3  "
      ]
     },
     "metadata": {},
     "output_type": "display_data"
    },
    {
     "data": {
      "text/markdown": [
       "#### Best Trial:"
      ]
     },
     "metadata": {},
     "output_type": "display_data"
    },
    {
     "data": {
      "text/html": [
       "<table border=\"1\" class=\"dataframe\">\n",
       "<thead>\n",
       "<tr style=\"text-align: right;\">\n",
       "  <th>key</th>\n",
       "  <th>value</th>\n",
       "</tr>\n",
       "</thead>\n",
       "<tbody><tr>\n",
       "  <td>signature</td>\n",
       "  <td>7bfcf5171dafad3c82f465f4f2f78705</td>\n",
       "</tr>\n",
       "<tr>\n",
       "  <td>vectors</td>\n",
       "  <td>[1, 0, 2, 1, 0, 0, 0, 0]</td>\n",
       "</tr><tr>\n",
       "  <td>0-estimator_options.hp_or</td>\n",
       "  <td>1</td>\n",
       "</tr>\n",
       "<tr><tr>\n",
       "  <td>1-Module_LSTNetGeneralEstimator_1.x_scale</td>\n",
       "  <td>z_score</td>\n",
       "</tr>\n",
       "<tr><tr>\n",
       "  <td>2-Module_LSTNetGeneralEstimator_1.rnn_type</td>\n",
       "  <td>lstm</td>\n",
       "</tr>\n",
       "<tr><tr>\n",
       "  <td>3-Module_LSTNetGeneralEstimator_1.cnn_filters</td>\n",
       "  <td>32</td>\n",
       "</tr>\n",
       "<tr><tr>\n",
       "  <td>4-Module_LSTNetGeneralEstimator_1.kernel_size</td>\n",
       "  <td>3</td>\n",
       "</tr>\n",
       "<tr><tr>\n",
       "  <td>5-Module_LSTNetGeneralEstimator_1.rnn_units</td>\n",
       "  <td>8</td>\n",
       "</tr>\n",
       "<tr><tr>\n",
       "  <td>6-Module_LSTNetGeneralEstimator_1.rnn_layers</td>\n",
       "  <td>2</td>\n",
       "</tr>\n",
       "<tr><tr>\n",
       "  <td>7-Module_LSTNetGeneralEstimator_1.drop_rate</td>\n",
       "  <td>0.0</td>\n",
       "</tr>\n",
       "<tr>  </tbody>\n",
       "</table>\n",
       "</div>"
      ],
      "text/plain": [
       "DAG_HyperSpace_1"
      ]
     },
     "metadata": {},
     "output_type": "display_data"
    },
    {
     "data": {
      "text/markdown": [
       "#### Top trials:"
      ]
     },
     "metadata": {},
     "output_type": "display_data"
    },
    {
     "data": {
      "text/html": [
       "<div>\n",
       "<style scoped>\n",
       "    .dataframe tbody tr th:only-of-type {\n",
       "        vertical-align: middle;\n",
       "    }\n",
       "\n",
       "    .dataframe tbody tr th {\n",
       "        vertical-align: top;\n",
       "    }\n",
       "\n",
       "    .dataframe thead th {\n",
       "        text-align: right;\n",
       "    }\n",
       "</style>\n",
       "<table border=\"1\" class=\"dataframe\">\n",
       "  <thead>\n",
       "    <tr style=\"text-align: right;\">\n",
       "      <th></th>\n",
       "      <th>Trial No.</th>\n",
       "      <th>Reward</th>\n",
       "      <th>Elapsed</th>\n",
       "      <th>Space Vector</th>\n",
       "    </tr>\n",
       "  </thead>\n",
       "  <tbody>\n",
       "    <tr>\n",
       "      <th>0</th>\n",
       "      <td>1</td>\n",
       "      <td>1.000000</td>\n",
       "      <td>42.260483</td>\n",
       "      <td>[1, 0, 2, 1, 0, 0, 0, 0]</td>\n",
       "    </tr>\n",
       "    <tr>\n",
       "      <th>1</th>\n",
       "      <td>3</td>\n",
       "      <td>0.769231</td>\n",
       "      <td>38.668229</td>\n",
       "      <td>[1, 0, 1, 0, 2, 3, 1, 0]</td>\n",
       "    </tr>\n",
       "    <tr>\n",
       "      <th>2</th>\n",
       "      <td>2</td>\n",
       "      <td>0.692308</td>\n",
       "      <td>51.459622</td>\n",
       "      <td>[1, 1, 1, 0, 0, 3, 1, 1]</td>\n",
       "    </tr>\n",
       "  </tbody>\n",
       "</table>\n",
       "</div>"
      ],
      "text/plain": [
       "   Trial No.    Reward    Elapsed              Space Vector\n",
       "0          1  1.000000  42.260483  [1, 0, 2, 1, 0, 0, 0, 0]\n",
       "1          3  0.769231  38.668229  [1, 0, 1, 0, 2, 3, 1, 0]\n",
       "2          2  0.692308  51.459622  [1, 1, 1, 0, 0, 3, 1, 1]"
      ]
     },
     "metadata": {},
     "output_type": "display_data"
    },
    {
     "data": {
      "application/vnd.jupyter.widget-view+json": {
       "model_id": "",
       "version_major": 2,
       "version_minor": 0
      },
      "text/plain": [
       "search:   0%|          | 0/3 [00:00<?, ?it/s]"
      ]
     },
     "metadata": {},
     "output_type": "display_data"
    },
    {
     "name": "stdout",
     "output_type": "stream",
     "text": [
      "Model: \"LSTNet\"\n",
      "_________________________________________________________________\n",
      " Layer (type)                Output Shape              Param #   \n",
      "=================================================================\n",
      " input_continuous_all (Input  [(None, 100, 6)]         0         \n",
      " Layer)                                                          \n",
      "                                                                 \n",
      " conv1d (SeparableConv1D)    (None, 98, 32)            242       \n",
      "                                                                 \n",
      " conv1d_dropout (Dropout)    (None, 98, 32)            0         \n",
      "                                                                 \n",
      " lstm_0 (LSTM)               (None, 98, 8)             1312      \n",
      "                                                                 \n",
      " lstm_0_dropout (Dropout)    (None, 98, 8)             0         \n",
      "                                                                 \n",
      " lstm_1 (LSTM)               (None, 8)                 544       \n",
      "                                                                 \n",
      " lambda_lstm (Lambda)        (None, 8)                 0         \n",
      "                                                                 \n",
      " lambda_lstm_dropout (Dropou  (None, 8)                0         \n",
      " t)                                                              \n",
      "                                                                 \n",
      " dense_out (Dense)           (None, 4)                 36        \n",
      "                                                                 \n",
      "=================================================================\n",
      "Total params: 2,134\n",
      "Trainable params: 2,134\n",
      "Non-trainable params: 0\n",
      "_________________________________________________________________\n",
      "The optimizer is 'auto', default: Adam, learning rate=0.001.\n",
      "Epoch 1/60\n",
      "20/20 [==============================] - 5s 83ms/step - loss: 1.3663 - acc: 0.2500 - val_loss: 1.3065 - val_acc: 0.2727 - lr: 0.0010\n",
      "Epoch 2/60\n",
      "20/20 [==============================] - 1s 46ms/step - loss: 1.2669 - acc: 0.4000 - val_loss: 1.2660 - val_acc: 0.2727 - lr: 0.0010\n",
      "Epoch 3/60\n",
      "20/20 [==============================] - 1s 51ms/step - loss: 1.1416 - acc: 0.5500 - val_loss: 1.1987 - val_acc: 0.2727 - lr: 0.0010\n",
      "Epoch 4/60\n",
      "20/20 [==============================] - 1s 51ms/step - loss: 0.9849 - acc: 0.5750 - val_loss: 1.1225 - val_acc: 0.3636 - lr: 0.0010\n",
      "Epoch 5/60\n",
      "20/20 [==============================] - 1s 49ms/step - loss: 0.8568 - acc: 0.8000 - val_loss: 1.0116 - val_acc: 0.6364 - lr: 0.0010\n",
      "Epoch 6/60\n",
      "20/20 [==============================] - 1s 51ms/step - loss: 0.7548 - acc: 0.8250 - val_loss: 0.8820 - val_acc: 0.7273 - lr: 0.0010\n",
      "Epoch 7/60\n",
      "20/20 [==============================] - 1s 52ms/step - loss: 0.6626 - acc: 0.9500 - val_loss: 0.7570 - val_acc: 0.9091 - lr: 0.0010\n",
      "Epoch 8/60\n",
      "20/20 [==============================] - 1s 59ms/step - loss: 0.5630 - acc: 0.9750 - val_loss: 0.6702 - val_acc: 0.9091 - lr: 0.0010\n",
      "Epoch 9/60\n",
      "20/20 [==============================] - 1s 45ms/step - loss: 0.4679 - acc: 0.9750 - val_loss: 0.5332 - val_acc: 1.0000 - lr: 0.0010\n",
      "Epoch 10/60\n",
      "20/20 [==============================] - 1s 47ms/step - loss: 0.3872 - acc: 1.0000 - val_loss: 0.4494 - val_acc: 1.0000 - lr: 0.0010\n",
      "Epoch 11/60\n",
      "20/20 [==============================] - 1s 59ms/step - loss: 0.3300 - acc: 1.0000 - val_loss: 0.3833 - val_acc: 1.0000 - lr: 0.0010\n",
      "Epoch 12/60\n",
      "20/20 [==============================] - 1s 61ms/step - loss: 0.2875 - acc: 1.0000 - val_loss: 0.3311 - val_acc: 1.0000 - lr: 0.0010\n",
      "Epoch 13/60\n",
      "20/20 [==============================] - 1s 44ms/step - loss: 0.2528 - acc: 1.0000 - val_loss: 0.2923 - val_acc: 1.0000 - lr: 0.0010\n",
      "Epoch 14/60\n",
      "20/20 [==============================] - 1s 50ms/step - loss: 0.2249 - acc: 1.0000 - val_loss: 0.2574 - val_acc: 1.0000 - lr: 0.0010\n",
      "Epoch 15/60\n",
      "20/20 [==============================] - 1s 48ms/step - loss: 0.2021 - acc: 1.0000 - val_loss: 0.2313 - val_acc: 1.0000 - lr: 0.0010\n",
      "Epoch 16/60\n",
      "20/20 [==============================] - 1s 50ms/step - loss: 0.1817 - acc: 1.0000 - val_loss: 0.2145 - val_acc: 1.0000 - lr: 0.0010\n",
      "Epoch 17/60\n",
      "20/20 [==============================] - 1s 46ms/step - loss: 0.1682 - acc: 1.0000 - val_loss: 0.1980 - val_acc: 1.0000 - lr: 0.0010\n",
      "Epoch 18/60\n",
      "20/20 [==============================] - 1s 47ms/step - loss: 0.1539 - acc: 1.0000 - val_loss: 0.1817 - val_acc: 1.0000 - lr: 0.0010\n",
      "Epoch 19/60\n",
      "20/20 [==============================] - 1s 45ms/step - loss: 0.1408 - acc: 1.0000 - val_loss: 0.1672 - val_acc: 1.0000 - lr: 0.0010\n",
      "Epoch 20/60\n",
      "20/20 [==============================] - 1s 45ms/step - loss: 0.1292 - acc: 1.0000 - val_loss: 0.1542 - val_acc: 1.0000 - lr: 0.0010\n",
      "Epoch 21/60\n",
      "20/20 [==============================] - 1s 54ms/step - loss: 0.1194 - acc: 1.0000 - val_loss: 0.1469 - val_acc: 1.0000 - lr: 0.0010\n",
      "Epoch 22/60\n",
      "20/20 [==============================] - 1s 48ms/step - loss: 0.1107 - acc: 1.0000 - val_loss: 0.1426 - val_acc: 1.0000 - lr: 0.0010\n",
      "Epoch 23/60\n",
      "20/20 [==============================] - 1s 44ms/step - loss: 0.1030 - acc: 1.0000 - val_loss: 0.1403 - val_acc: 1.0000 - lr: 0.0010\n",
      "Epoch 24/60\n",
      "20/20 [==============================] - 1s 44ms/step - loss: 0.0962 - acc: 1.0000 - val_loss: 0.1219 - val_acc: 1.0000 - lr: 0.0010\n",
      "Epoch 25/60\n",
      "20/20 [==============================] - 1s 44ms/step - loss: 0.0903 - acc: 1.0000 - val_loss: 0.1651 - val_acc: 0.9091 - lr: 0.0010\n",
      "Epoch 26/60\n",
      "20/20 [==============================] - 1s 44ms/step - loss: 0.0847 - acc: 1.0000 - val_loss: 0.1007 - val_acc: 1.0000 - lr: 0.0010\n",
      "Epoch 27/60\n",
      "20/20 [==============================] - 1s 43ms/step - loss: 0.0802 - acc: 1.0000 - val_loss: 0.0955 - val_acc: 1.0000 - lr: 0.0010\n",
      "Epoch 28/60\n",
      "20/20 [==============================] - 1s 44ms/step - loss: 0.0752 - acc: 1.0000 - val_loss: 0.1074 - val_acc: 1.0000 - lr: 0.0010\n",
      "Epoch 29/60\n",
      "20/20 [==============================] - 1s 48ms/step - loss: 0.0711 - acc: 1.0000 - val_loss: 0.2087 - val_acc: 0.9091 - lr: 0.0010\n",
      "Epoch 30/60\n",
      "20/20 [==============================] - 1s 49ms/step - loss: 0.0672 - acc: 1.0000 - val_loss: 0.2504 - val_acc: 0.9091 - lr: 0.0010\n",
      "Epoch 31/60\n",
      "20/20 [==============================] - 1s 44ms/step - loss: 0.0635 - acc: 1.0000 - val_loss: 0.2533 - val_acc: 0.9091 - lr: 0.0010\n",
      "Epoch 32/60\n",
      "19/20 [===========================>..] - ETA: 0s - loss: 0.0615 - acc: 1.0000\n",
      "Epoch 00032: ReduceLROnPlateau reducing learning rate to 0.0005000000237487257.\n",
      "20/20 [==============================] - 1s 45ms/step - loss: 0.0604 - acc: 1.0000 - val_loss: 0.2668 - val_acc: 0.9091 - lr: 0.0010\n",
      "Epoch 33/60\n",
      "20/20 [==============================] - 1s 45ms/step - loss: 0.0578 - acc: 1.0000 - val_loss: 0.2650 - val_acc: 0.9091 - lr: 5.0000e-04\n",
      "Epoch 34/60\n",
      "20/20 [==============================] - 1s 46ms/step - loss: 0.0563 - acc: 1.0000 - val_loss: 0.2687 - val_acc: 0.9091 - lr: 5.0000e-04\n",
      "Epoch 35/60\n",
      "20/20 [==============================] - 1s 45ms/step - loss: 0.0549 - acc: 1.0000 - val_loss: 0.2451 - val_acc: 0.9091 - lr: 5.0000e-04\n",
      "Epoch 36/60\n",
      "20/20 [==============================] - 1s 45ms/step - loss: 0.0534 - acc: 1.0000 - val_loss: 0.2435 - val_acc: 0.9091 - lr: 5.0000e-04\n",
      "Epoch 37/60\n",
      "19/20 [===========================>..] - ETA: 0s - loss: 0.0520 - acc: 1.0000\n",
      "Epoch 00037: ReduceLROnPlateau reducing learning rate to 0.0002500000118743628.\n",
      "20/20 [==============================] - 1s 46ms/step - loss: 0.0520 - acc: 1.0000 - val_loss: 0.2512 - val_acc: 0.9091 - lr: 5.0000e-04\n",
      "Epoch 00037: early stopping\n",
      "Model: \"LSTNet\"\n",
      "_________________________________________________________________\n",
      " Layer (type)                Output Shape              Param #   \n",
      "=================================================================\n",
      " input_continuous_all (Input  [(None, 100, 6)]         0         \n",
      " Layer)                                                          \n",
      "                                                                 \n",
      " conv1d (SeparableConv1D)    (None, 98, 16)            130       \n",
      "                                                                 \n",
      " conv1d_dropout (Dropout)    (None, 98, 16)            0         \n",
      "                                                                 \n",
      " gru_0 (GRU)                 (None, 98, 64)            15744     \n",
      "                                                                 \n",
      " gru_0_dropout (Dropout)     (None, 98, 64)            0         \n",
      "                                                                 \n",
      " gru_1 (GRU)                 (None, 98, 64)            24960     \n",
      "                                                                 \n",
      " gru_1_dropout (Dropout)     (None, 98, 64)            0         \n",
      "                                                                 \n",
      " gru_2 (GRU)                 (None, 64)                24960     \n",
      "                                                                 \n",
      " lambda_gru (Lambda)         (None, 64)                0         \n",
      "                                                                 \n",
      " lambda_gru_dropout (Dropout  (None, 64)               0         \n",
      " )                                                               \n",
      "                                                                 \n",
      " dense_out (Dense)           (None, 4)                 260       \n",
      "                                                                 \n",
      "=================================================================\n",
      "Total params: 66,054\n",
      "Trainable params: 66,054\n",
      "Non-trainable params: 0\n",
      "_________________________________________________________________\n",
      "The optimizer is 'auto', default: Adam, learning rate=0.001.\n",
      "Epoch 1/60\n"
     ]
    },
    {
     "name": "stdout",
     "output_type": "stream",
     "text": [
      "20/20 [==============================] - 7s 129ms/step - loss: 1.4027 - acc: 0.2500 - val_loss: 1.4170 - val_acc: 0.0909 - lr: 0.0010\n",
      "Epoch 2/60\n",
      "20/20 [==============================] - 2s 77ms/step - loss: 1.3648 - acc: 0.3000 - val_loss: 1.3930 - val_acc: 0.0909 - lr: 0.0010\n",
      "Epoch 3/60\n",
      "20/20 [==============================] - 2s 80ms/step - loss: 1.2634 - acc: 0.3500 - val_loss: 1.2050 - val_acc: 0.4545 - lr: 0.0010\n",
      "Epoch 4/60\n",
      "20/20 [==============================] - 2s 79ms/step - loss: 0.9393 - acc: 0.6000 - val_loss: 0.8154 - val_acc: 0.4545 - lr: 0.0010\n",
      "Epoch 5/60\n",
      "20/20 [==============================] - 2s 79ms/step - loss: 0.8787 - acc: 0.4000 - val_loss: 1.5756 - val_acc: 0.3636 - lr: 0.0010\n",
      "Epoch 6/60\n",
      "20/20 [==============================] - 2s 79ms/step - loss: 1.1365 - acc: 0.4250 - val_loss: 0.9994 - val_acc: 0.3636 - lr: 0.0010\n",
      "Epoch 7/60\n",
      "20/20 [==============================] - 2s 80ms/step - loss: 0.8223 - acc: 0.5750 - val_loss: 1.0065 - val_acc: 0.4545 - lr: 0.0010\n",
      "Epoch 8/60\n",
      "20/20 [==============================] - 2s 83ms/step - loss: 0.7449 - acc: 0.5500 - val_loss: 0.7399 - val_acc: 0.5455 - lr: 0.0010\n",
      "Epoch 9/60\n",
      "20/20 [==============================] - 2s 80ms/step - loss: 0.6678 - acc: 0.7000 - val_loss: 0.7293 - val_acc: 0.5455 - lr: 0.0010\n",
      "Epoch 10/60\n",
      "20/20 [==============================] - 2s 83ms/step - loss: 0.6959 - acc: 0.5500 - val_loss: 0.6478 - val_acc: 0.9091 - lr: 0.0010\n",
      "Epoch 11/60\n",
      "20/20 [==============================] - 2s 86ms/step - loss: 0.6486 - acc: 0.6250 - val_loss: 0.6496 - val_acc: 0.7273 - lr: 0.0010\n",
      "Epoch 12/60\n",
      "20/20 [==============================] - 2s 80ms/step - loss: 0.6156 - acc: 0.6750 - val_loss: 0.6502 - val_acc: 0.6364 - lr: 0.0010\n",
      "Epoch 13/60\n",
      "20/20 [==============================] - 2s 80ms/step - loss: 0.5934 - acc: 0.6250 - val_loss: 0.6618 - val_acc: 0.6364 - lr: 0.0010\n",
      "Epoch 14/60\n",
      "20/20 [==============================] - 2s 79ms/step - loss: 0.7735 - acc: 0.6750 - val_loss: 0.6368 - val_acc: 0.6364 - lr: 0.0010\n",
      "Epoch 15/60\n",
      "20/20 [==============================] - 2s 79ms/step - loss: 0.9291 - acc: 0.5500 - val_loss: 0.7583 - val_acc: 0.4545 - lr: 0.0010\n",
      "Epoch 16/60\n",
      "20/20 [==============================] - 2s 79ms/step - loss: 0.6660 - acc: 0.6750 - val_loss: 0.8165 - val_acc: 0.4545 - lr: 0.0010\n",
      "Epoch 17/60\n",
      "20/20 [==============================] - 2s 79ms/step - loss: 0.5811 - acc: 0.7250 - val_loss: 0.6328 - val_acc: 0.9091 - lr: 0.0010\n",
      "Epoch 18/60\n",
      "20/20 [==============================] - 2s 79ms/step - loss: 0.5476 - acc: 0.7750 - val_loss: 0.7195 - val_acc: 0.6364 - lr: 0.0010\n",
      "Epoch 19/60\n",
      "20/20 [==============================] - 2s 79ms/step - loss: 0.5333 - acc: 0.7250 - val_loss: 1.1220 - val_acc: 0.4545 - lr: 0.0010\n",
      "Epoch 20/60\n",
      "20/20 [==============================] - 2s 79ms/step - loss: 0.5582 - acc: 0.6250 - val_loss: 0.7283 - val_acc: 0.9091 - lr: 0.0010\n",
      "Epoch 21/60\n",
      "20/20 [==============================] - 2s 85ms/step - loss: 0.6408 - acc: 0.6750 - val_loss: 0.7252 - val_acc: 0.6364 - lr: 0.0010\n",
      "Epoch 22/60\n",
      "20/20 [==============================] - ETA: 0s - loss: 0.5339 - acc: 0.7000\n",
      "Epoch 00022: ReduceLROnPlateau reducing learning rate to 0.0005000000237487257.\n",
      "20/20 [==============================] - 2s 79ms/step - loss: 0.5339 - acc: 0.7000 - val_loss: 0.7524 - val_acc: 0.5455 - lr: 0.0010\n",
      "Epoch 23/60\n",
      "20/20 [==============================] - 2s 82ms/step - loss: 0.4705 - acc: 0.7750 - val_loss: 0.6926 - val_acc: 0.8182 - lr: 5.0000e-04\n",
      "Epoch 24/60\n",
      "20/20 [==============================] - 2s 79ms/step - loss: 0.4460 - acc: 0.7500 - val_loss: 0.7440 - val_acc: 0.5455 - lr: 5.0000e-04\n",
      "Epoch 25/60\n",
      "20/20 [==============================] - 2s 80ms/step - loss: 0.4867 - acc: 0.7500 - val_loss: 0.6771 - val_acc: 0.9091 - lr: 5.0000e-04\n",
      "Epoch 26/60\n",
      "20/20 [==============================] - 2s 85ms/step - loss: 0.4122 - acc: 0.8250 - val_loss: 0.7490 - val_acc: 0.9091 - lr: 5.0000e-04\n",
      "Epoch 27/60\n",
      "20/20 [==============================] - ETA: 0s - loss: 0.4769 - acc: 0.8750\n",
      "Epoch 00027: ReduceLROnPlateau reducing learning rate to 0.0002500000118743628.\n",
      "20/20 [==============================] - 2s 82ms/step - loss: 0.4769 - acc: 0.8750 - val_loss: 0.6389 - val_acc: 0.6364 - lr: 5.0000e-04\n",
      "Epoch 00027: early stopping\n",
      "Model: \"LSTNet\"\n",
      "_________________________________________________________________\n",
      " Layer (type)                Output Shape              Param #   \n",
      "=================================================================\n",
      " input_continuous_all (Input  [(None, 100, 6)]         0         \n",
      " Layer)                                                          \n",
      "                                                                 \n",
      " conv1d (SeparableConv1D)    (None, 93, 16)            160       \n",
      "                                                                 \n",
      " conv1d_dropout (Dropout)    (None, 93, 16)            0         \n",
      "                                                                 \n",
      " gru_0 (GRU)                 (None, 93, 64)            15744     \n",
      "                                                                 \n",
      " gru_0_dropout (Dropout)     (None, 93, 64)            0         \n",
      "                                                                 \n",
      " gru_1 (GRU)                 (None, 93, 64)            24960     \n",
      "                                                                 \n",
      " gru_1_dropout (Dropout)     (None, 93, 64)            0         \n",
      "                                                                 \n",
      " gru_2 (GRU)                 (None, 64)                24960     \n",
      "                                                                 \n",
      " lambda_gru (Lambda)         (None, 64)                0         \n",
      "                                                                 \n",
      " lambda_gru_dropout (Dropout  (None, 64)               0         \n",
      " )                                                               \n",
      "                                                                 \n",
      " dense_out (Dense)           (None, 4)                 260       \n",
      "                                                                 \n",
      "=================================================================\n",
      "Total params: 66,084\n",
      "Trainable params: 66,084\n",
      "Non-trainable params: 0\n",
      "_________________________________________________________________\n",
      "The optimizer is 'auto', default: Adam, learning rate=0.001.\n",
      "Epoch 1/60\n",
      "20/20 [==============================] - 9s 128ms/step - loss: 1.2904 - acc: 0.3500 - val_loss: 1.0804 - val_acc: 0.3636 - lr: 0.0010\n",
      "Epoch 2/60\n",
      "20/20 [==============================] - 1s 74ms/step - loss: 0.9472 - acc: 0.7000 - val_loss: 1.0492 - val_acc: 0.3636 - lr: 0.0010\n",
      "Epoch 3/60\n",
      "20/20 [==============================] - 1s 74ms/step - loss: 0.5999 - acc: 0.7250 - val_loss: 0.9086 - val_acc: 0.6364 - lr: 0.0010\n",
      "Epoch 4/60\n",
      "20/20 [==============================] - 1s 74ms/step - loss: 0.3794 - acc: 0.8000 - val_loss: 1.0289 - val_acc: 0.4545 - lr: 0.0010\n",
      "Epoch 5/60\n",
      "20/20 [==============================] - 2s 77ms/step - loss: 0.3461 - acc: 0.8750 - val_loss: 0.6275 - val_acc: 0.8182 - lr: 0.0010\n",
      "Epoch 6/60\n",
      "20/20 [==============================] - 2s 78ms/step - loss: 0.2584 - acc: 0.8750 - val_loss: 0.6332 - val_acc: 0.8182 - lr: 0.0010\n",
      "Epoch 7/60\n",
      "20/20 [==============================] - 2s 77ms/step - loss: 0.1585 - acc: 0.9750 - val_loss: 0.1775 - val_acc: 0.9091 - lr: 0.0010\n",
      "Epoch 8/60\n",
      "20/20 [==============================] - 2s 80ms/step - loss: 0.0610 - acc: 0.9750 - val_loss: 0.2776 - val_acc: 0.9091 - lr: 0.0010\n",
      "Epoch 9/60\n",
      "20/20 [==============================] - 2s 81ms/step - loss: 0.0271 - acc: 1.0000 - val_loss: 0.1221 - val_acc: 0.9091 - lr: 0.0010\n",
      "Epoch 10/60\n",
      "20/20 [==============================] - 2s 75ms/step - loss: 0.1204 - acc: 0.9750 - val_loss: 0.3137 - val_acc: 0.9091 - lr: 0.0010\n",
      "Epoch 11/60\n",
      "20/20 [==============================] - 1s 74ms/step - loss: 0.0117 - acc: 1.0000 - val_loss: 0.3157 - val_acc: 0.9091 - lr: 0.0010\n",
      "Epoch 12/60\n",
      "20/20 [==============================] - 1s 75ms/step - loss: 0.0092 - acc: 1.0000 - val_loss: 0.3309 - val_acc: 0.9091 - lr: 0.0010\n",
      "Epoch 13/60\n",
      "20/20 [==============================] - 2s 75ms/step - loss: 0.0072 - acc: 1.0000 - val_loss: 0.3620 - val_acc: 0.9091 - lr: 0.0010\n"
     ]
    },
    {
     "name": "stdout",
     "output_type": "stream",
     "text": [
      "Epoch 14/60\n",
      "20/20 [==============================] - ETA: 0s - loss: 0.0055 - acc: 1.0000\n",
      "Epoch 00014: ReduceLROnPlateau reducing learning rate to 0.0005000000237487257.\n",
      "20/20 [==============================] - 2s 83ms/step - loss: 0.0055 - acc: 1.0000 - val_loss: 0.3685 - val_acc: 0.9091 - lr: 0.0010\n",
      "Epoch 15/60\n",
      "20/20 [==============================] - 2s 80ms/step - loss: 0.0048 - acc: 1.0000 - val_loss: 0.3757 - val_acc: 0.9091 - lr: 5.0000e-04\n",
      "Epoch 16/60\n",
      "20/20 [==============================] - 2s 82ms/step - loss: 0.0046 - acc: 1.0000 - val_loss: 0.3675 - val_acc: 0.9091 - lr: 5.0000e-04\n",
      "Epoch 17/60\n",
      "20/20 [==============================] - 2s 79ms/step - loss: 0.0042 - acc: 1.0000 - val_loss: 0.3724 - val_acc: 0.9091 - lr: 5.0000e-04\n",
      "Epoch 18/60\n",
      "20/20 [==============================] - 2s 78ms/step - loss: 0.0040 - acc: 1.0000 - val_loss: 0.3784 - val_acc: 0.9091 - lr: 5.0000e-04\n",
      "Epoch 19/60\n",
      "20/20 [==============================] - ETA: 0s - loss: 0.0037 - acc: 1.0000\n",
      "Epoch 00019: ReduceLROnPlateau reducing learning rate to 0.0002500000118743628.\n",
      "20/20 [==============================] - 2s 76ms/step - loss: 0.0037 - acc: 1.0000 - val_loss: 0.3773 - val_acc: 0.9091 - lr: 5.0000e-04\n",
      "Epoch 00019: early stopping\n"
     ]
    },
    {
     "data": {
      "text/markdown": [
       "### Fitted parameters"
      ]
     },
     "metadata": {},
     "output_type": "display_data"
    },
    {
     "data": {
      "text/html": [
       "<div>\n",
       "<style scoped>\n",
       "    .dataframe tbody tr th:only-of-type {\n",
       "        vertical-align: middle;\n",
       "    }\n",
       "\n",
       "    .dataframe tbody tr th {\n",
       "        vertical-align: top;\n",
       "    }\n",
       "\n",
       "    .dataframe thead th {\n",
       "        text-align: right;\n",
       "    }\n",
       "</style>\n",
       "<table border=\"1\" class=\"dataframe\">\n",
       "  <thead>\n",
       "    <tr style=\"text-align: right;\">\n",
       "      <th></th>\n",
       "      <th>key</th>\n",
       "      <th>value</th>\n",
       "    </tr>\n",
       "  </thead>\n",
       "  <tbody>\n",
       "    <tr>\n",
       "      <th>0</th>\n",
       "      <td>input_features</td>\n",
       "      <td>[Var_1, Var_2, Var_3, Var_4, Var_5, Var_6]</td>\n",
       "    </tr>\n",
       "    <tr>\n",
       "      <th>1</th>\n",
       "      <td>best_reward</td>\n",
       "      <td>1.0</td>\n",
       "    </tr>\n",
       "    <tr>\n",
       "      <th>2</th>\n",
       "      <td>history</td>\n",
       "      <td>TrialHistory(direction='max', size=3, succeede...</td>\n",
       "    </tr>\n",
       "  </tbody>\n",
       "</table>\n",
       "</div>"
      ],
      "text/plain": [
       "              key                                              value\n",
       "0  input_features         [Var_1, Var_2, Var_3, Var_4, Var_5, Var_6]\n",
       "1     best_reward                                                1.0\n",
       "2         history  TrialHistory(direction='max', size=3, succeede..."
      ]
     },
     "metadata": {},
     "output_type": "display_data"
    },
    {
     "data": {
      "text/markdown": [
       "### Elapsed"
      ]
     },
     "metadata": {},
     "output_type": "display_data"
    },
    {
     "data": {
      "text/markdown": [
       "* 132.718 seconds"
      ]
     },
     "metadata": {},
     "output_type": "display_data"
    },
    {
     "data": {
      "text/markdown": [
       "## Final Training"
      ]
     },
     "metadata": {},
     "output_type": "display_data"
    },
    {
     "data": {
      "text/markdown": [
       "### Initliazed parameters"
      ]
     },
     "metadata": {},
     "output_type": "display_data"
    },
    {
     "data": {
      "text/html": [
       "<div>\n",
       "<style scoped>\n",
       "    .dataframe tbody tr th:only-of-type {\n",
       "        vertical-align: middle;\n",
       "    }\n",
       "\n",
       "    .dataframe tbody tr th {\n",
       "        vertical-align: top;\n",
       "    }\n",
       "\n",
       "    .dataframe thead th {\n",
       "        text-align: right;\n",
       "    }\n",
       "</style>\n",
       "<table border=\"1\" class=\"dataframe\">\n",
       "  <thead>\n",
       "    <tr style=\"text-align: right;\">\n",
       "      <th></th>\n",
       "      <th>key</th>\n",
       "      <th>value</th>\n",
       "    </tr>\n",
       "  </thead>\n",
       "  <tbody>\n",
       "    <tr>\n",
       "      <th>0</th>\n",
       "      <td>name</td>\n",
       "      <td>final_training</td>\n",
       "    </tr>\n",
       "    <tr>\n",
       "      <th>1</th>\n",
       "      <td>retrain_on_wholedata</td>\n",
       "      <td>False</td>\n",
       "    </tr>\n",
       "  </tbody>\n",
       "</table>\n",
       "</div>"
      ],
      "text/plain": [
       "                    key           value\n",
       "0                  name  final_training\n",
       "1  retrain_on_wholedata           False"
      ]
     },
     "metadata": {},
     "output_type": "display_data"
    },
    {
     "data": {
      "text/markdown": [
       "### Fitted parameters"
      ]
     },
     "metadata": {},
     "output_type": "display_data"
    },
    {
     "data": {
      "text/html": [
       "<div>\n",
       "<style scoped>\n",
       "    .dataframe tbody tr th:only-of-type {\n",
       "        vertical-align: middle;\n",
       "    }\n",
       "\n",
       "    .dataframe tbody tr th {\n",
       "        vertical-align: top;\n",
       "    }\n",
       "\n",
       "    .dataframe thead th {\n",
       "        text-align: right;\n",
       "    }\n",
       "</style>\n",
       "<table border=\"1\" class=\"dataframe\">\n",
       "  <thead>\n",
       "    <tr style=\"text-align: right;\">\n",
       "      <th></th>\n",
       "      <th>key</th>\n",
       "      <th>value</th>\n",
       "    </tr>\n",
       "  </thead>\n",
       "  <tbody>\n",
       "    <tr>\n",
       "      <th>0</th>\n",
       "      <td>input_features</td>\n",
       "      <td>[Var_1, Var_2, Var_3, Var_4, Var_5, Var_6]</td>\n",
       "    </tr>\n",
       "    <tr>\n",
       "      <th>1</th>\n",
       "      <td>estimator</td>\n",
       "      <td>&lt;hyperts.hyper_ts.HyperTSEstimator object at 0...</td>\n",
       "    </tr>\n",
       "  </tbody>\n",
       "</table>\n",
       "</div>"
      ],
      "text/plain": [
       "              key                                              value\n",
       "0  input_features         [Var_1, Var_2, Var_3, Var_4, Var_5, Var_6]\n",
       "1       estimator  <hyperts.hyper_ts.HyperTSEstimator object at 0..."
      ]
     },
     "metadata": {},
     "output_type": "display_data"
    },
    {
     "data": {
      "text/markdown": [
       "### Elapsed"
      ]
     },
     "metadata": {},
     "output_type": "display_data"
    },
    {
     "data": {
      "text/markdown": [
       "* 0.639 seconds"
      ]
     },
     "metadata": {},
     "output_type": "display_data"
    },
    {
     "data": {
      "text/plain": [
       "<hyperts.framework.evaluator.HyperTS at 0x27d4c92f1d0>"
      ]
     },
     "execution_count": 9,
     "metadata": {},
     "output_type": "execute_result"
    }
   ],
   "source": [
    "model.fit(max_trials=3)"
   ]
  },
  {
   "cell_type": "markdown",
   "metadata": {},
   "source": [
    "#### 7. Predict (Infer)"
   ]
  },
  {
   "cell_type": "code",
   "execution_count": 10,
   "metadata": {},
   "outputs": [],
   "source": [
    "X_test, y_test = model.split_X_y(test_df)\n",
    "y_pred = model.predict(X_test)\n",
    "y_proba = model.predict_proba(X_test)"
   ]
  },
  {
   "cell_type": "code",
   "execution_count": 11,
   "metadata": {},
   "outputs": [
    {
     "data": {
      "text/plain": [
       "array(['running', 'standing', 'running', 'badminton', 'walking',\n",
       "       'standing', 'running', 'badminton', 'badminton', 'running',\n",
       "       'badminton', 'walking', 'badminton', 'standing', 'walking',\n",
       "       'walking'], dtype=object)"
      ]
     },
     "execution_count": 11,
     "metadata": {},
     "output_type": "execute_result"
    }
   ],
   "source": [
    "y_pred"
   ]
  },
  {
   "cell_type": "markdown",
   "metadata": {},
   "source": [
    "#### 8. Evaluate results"
   ]
  },
  {
   "cell_type": "code",
   "execution_count": 12,
   "metadata": {},
   "outputs": [],
   "source": [
    "results = model.evaluate(y_true=y_test, y_pred=y_pred, y_proba=y_proba)"
   ]
  },
  {
   "cell_type": "code",
   "execution_count": 13,
   "metadata": {},
   "outputs": [
    {
     "data": {
      "text/html": [
       "<div>\n",
       "<style scoped>\n",
       "    .dataframe tbody tr th:only-of-type {\n",
       "        vertical-align: middle;\n",
       "    }\n",
       "\n",
       "    .dataframe tbody tr th {\n",
       "        vertical-align: top;\n",
       "    }\n",
       "\n",
       "    .dataframe thead th {\n",
       "        text-align: right;\n",
       "    }\n",
       "</style>\n",
       "<table border=\"1\" class=\"dataframe\">\n",
       "  <thead>\n",
       "    <tr style=\"text-align: right;\">\n",
       "      <th></th>\n",
       "      <th>Metirc</th>\n",
       "      <th>Score</th>\n",
       "    </tr>\n",
       "  </thead>\n",
       "  <tbody>\n",
       "    <tr>\n",
       "      <th>0</th>\n",
       "      <td>accuracy</td>\n",
       "      <td>1.0000</td>\n",
       "    </tr>\n",
       "    <tr>\n",
       "      <th>1</th>\n",
       "      <td>f1</td>\n",
       "      <td>1.0000</td>\n",
       "    </tr>\n",
       "    <tr>\n",
       "      <th>2</th>\n",
       "      <td>precision</td>\n",
       "      <td>1.0000</td>\n",
       "    </tr>\n",
       "    <tr>\n",
       "      <th>3</th>\n",
       "      <td>recall</td>\n",
       "      <td>1.0000</td>\n",
       "    </tr>\n",
       "  </tbody>\n",
       "</table>\n",
       "</div>"
      ],
      "text/plain": [
       "      Metirc  Score\n",
       "0   accuracy 1.0000\n",
       "1         f1 1.0000\n",
       "2  precision 1.0000\n",
       "3     recall 1.0000"
      ]
     },
     "execution_count": 13,
     "metadata": {},
     "output_type": "execute_result"
    }
   ],
   "source": [
    "results"
   ]
  },
  {
   "cell_type": "code",
   "execution_count": null,
   "metadata": {},
   "outputs": [],
   "source": []
  }
 ],
 "metadata": {
  "kernelspec": {
   "display_name": "Python 3 (ipykernel)",
   "language": "python",
   "name": "python3"
  },
  "language_info": {
   "codemirror_mode": {
    "name": "ipython",
    "version": 3
   },
   "file_extension": ".py",
   "mimetype": "text/x-python",
   "name": "python",
   "nbconvert_exporter": "python",
   "pygments_lexer": "ipython3",
   "version": "3.7.3"
  }
 },
 "nbformat": 4,
 "nbformat_minor": 1
}