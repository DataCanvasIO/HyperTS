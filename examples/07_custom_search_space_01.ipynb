{
 "cells": [
  {
   "cell_type": "code",
   "execution_count": null,
   "metadata": {
    "collapsed": true
   },
   "outputs": [],
   "source": [
    "from hypernets.core.search_space import Choice, Int, Real\n",
    "from hyperts.macro_search_space import StatsForecastSearchSpace\n",
    "\n",
    "custom_search_space = StatsForecastSearchSpace(task='univariate-forecast', \n",
    "                                               timestamp='TimeStamp',\n",
    "                                               covariables=['HourSin', 'WeekCos', 'CBWD'],\n",
    "                                               enable_arima=False,\n",
    "                                               prophet_init_kwargs={\n",
    "                                                   'seasonality_mode': 'multiplicative',\n",
    "                                                   'daily_seasonality': Choice([True, False]),\n",
    "                                                   'n_changepoints': Int(10, 50, step=10),\n",
    "                                                   'interval_width': Real(0.1, 0.5, step=0.1)}\n",
    "                                               )"
   ]
  },
  {
   "cell_type": "code",
   "execution_count": null,
   "metadata": {},
   "outputs": [],
   "source": [
    "from hyperts.experiment import make_experiment\n",
    "\n",
    "experiment = make_experiment(train_data, \n",
    "                             task='univariate-forecast',\n",
    "                             timestamp='TimeStamp',\n",
    "                             covariables=['HourSin', 'WeekCos', 'CBWD'],\n",
    "                             search_space=custom_search_space,\n",
    "                             ...) "
   ]
  }
 ],
 "metadata": {
  "kernelspec": {
   "display_name": "Python 3 (ipykernel)",
   "language": "python",
   "name": "python3"
  },
  "language_info": {
   "codemirror_mode": {
    "name": "ipython",
    "version": 3
   },
   "file_extension": ".py",
   "mimetype": "text/x-python",
   "name": "python",
   "nbconvert_exporter": "python",
   "pygments_lexer": "ipython3",
   "version": "3.7.3"
  }
 },
 "nbformat": 4,
 "nbformat_minor": 1
}
