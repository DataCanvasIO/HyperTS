{
 "cells": [
  {
   "cell_type": "markdown",
   "metadata": {},
   "source": [
    "HyperTS is the DataCanvas Automatic Toolkit (DAT) tool chain, relying on [Hypernets](https://github.com/DataCanvasIO/Hypernets)-derived full Pipeline automatic toolkit for time series analysis. It follows the usage of ```make_expriment``` (similar to the API of [HyperGBM](https://github.com/DataCanvasIO/HyperGBM), an AutoML toolit for structured tabular data), and also conforms to the usage specification of the model API in ```scikit-learn```. We can create a ```make_expriment```, ```run``` and get a pipeline_model, which is a final optimized estimator, and then use its ```predict```, ```evaluate```, and ```plot``` to analyze unknown data."
   ]
  },
  {
   "cell_type": "markdown",
   "metadata": {},
   "source": [
    "HyperTS can be used to solve time series forecasting, classification and regression tasks, and they share a unified API. Next, we will divide into a quick demonstration of how to use it for time series forecasting and classification tasks."
   ]
  },
  {
   "cell_type": "markdown",
   "metadata": {},
   "source": [
    "### 1. Forecast Case"
   ]
  },
  {
   "cell_type": "markdown",
   "metadata": {},
   "source": [
    "#### 1.1 Prepare Dataset"
   ]
  },
  {
   "cell_type": "markdown",
   "metadata": {},
   "source": [
    "If you have doubts about the data format of HyperTS, please refer to the introduction in [01_datatypes_for_hyperts.ipynb](https://github.com/DataCanvasIO/HyperTS/blob/main/examples/01_datatypes_for_hyperts.ipynb)."
   ]
  },
  {
   "cell_type": "code",
   "execution_count": 1,
   "metadata": {},
   "outputs": [],
   "source": [
    "from hyperts.datasets import load_network_traffic\n",
    "from sklearn.model_selection import train_test_split"
   ]
  },
  {
   "cell_type": "code",
   "execution_count": 2,
   "metadata": {},
   "outputs": [],
   "source": [
    "df = load_network_traffic()\n",
    "train_data, test_data = train_test_split(df, test_size=168, shuffle=False)"
   ]
  },
  {
   "cell_type": "markdown",
   "metadata": {},
   "source": [
    "Due to the temporal order of the data, in order to prevent information leakage, we split a part from the back of the overall data set, so ```shuffle=False```."
   ]
  },
  {
   "cell_type": "markdown",
   "metadata": {},
   "source": [
    "In this case dataset, we expose some basic information for reference, as follows:\n",
    "\n",
    "- time column: 'TimeStamp';\n",
    "- target columns: ['Var_1', 'Var_2', 'Var_3', 'Var_4', 'Var_5', 'Var_6'];\n",
    "- covariate columns: ['HourSin', 'WeekCos', 'CBWD'];\n",
    "- freq: 'H'."
   ]
  },
  {
   "cell_type": "markdown",
   "metadata": {},
   "source": [
    "#### 1.2 Create Experiment and Run"
   ]
  },
  {
   "cell_type": "markdown",
   "metadata": {},
   "source": [
    "We search for a time series model by creating ```make_experiment```, and call the ```run()``` method to perform the experiment."
   ]
  },
  {
   "cell_type": "code",
   "execution_count": 3,
   "metadata": {},
   "outputs": [],
   "source": [
    "from hyperts import make_experiment"
   ]
  },
  {
   "cell_type": "code",
   "execution_count": 4,
   "metadata": {},
   "outputs": [
    {
     "name": "stdout",
     "output_type": "stream",
     "text": [
      "\n"
     ]
    }
   ],
   "source": [
    "experiment = make_experiment(train_data=train_data.copy(),\n",
    "                             task='forecast',\n",
    "                             mode='dl',\n",
    "                             timestamp='TimeStamp',\n",
    "                             covariables=['HourSin', 'WeekCos', 'CBWD'])\n",
    "model = experiment.run()"
   ]
  },
  {
   "cell_type": "markdown",
   "metadata": {},
   "source": [
    "**Note**\n",
    "\n",
    "In the forecasting task, we must pass the parameter ```timestamp``` column name to ```make_experiment```. If there are covariates, we also need to pass in the covariables column name.\n",
    "\n",
    "Therefore, in this case, we need to pass the following parameters to ```make_experiment```:\n",
    "\n",
    "1. Task type, ```task='forecast'```;\n",
    "2. Time column name, ```timestamp='TimeStamp'```;\n",
    "3. Covariate column name (ignore if not), ```covariables=['HourSin', 'WeekCos', 'CBWD']```;\n",
    "4. If you want to obtain powerful performance, you can also modify other default parameters. For details, please refer to the parameter introduction in ```make_experiment```."
   ]
  },
  {
   "cell_type": "markdown",
   "metadata": {},
   "source": [
    "#### 1.3 Print Pipeline Model"
   ]
  },
  {
   "cell_type": "code",
   "execution_count": 5,
   "metadata": {},
   "outputs": [
    {
     "data": {
      "text/plain": [
       "<bound method Pipeline.get_params of Pipeline(steps=[('data_preprocessing',\n",
       "                 TSFDataPreprocessStep(covariate_cols=['HourSin', 'WeekCos',\n",
       "                                                       'CBWD'],\n",
       "                                       covariate_data_clean_args={'correct_object_dtype': False,\n",
       "                                                                  'drop_columns': None,\n",
       "                                                                  'drop_constant_columns': True,\n",
       "                                                                  'drop_duplicated_columns': False,\n",
       "                                                                  'drop_idness_columns': True,\n",
       "                                                                  'drop_label_nan_rows': True,\n",
       "                                                                  'int_convert_to': 'float',\n",
       "                                                                  'nan_chars': None,\n",
       "                                                                  'reduce_mem_usage': False,\n",
       "                                                                  'reserve_columns': None},\n",
       "                                       covariate_data_cleaner_args={'correct_object_dtype': False},\n",
       "                                       freq='H', name='data_preprocessing',\n",
       "                                       timestamp_col=['TimeStamp'])),\n",
       "                ('estimator',\n",
       "                 <hyperts.hyper_ts.HyperTSEstimator object at 0x000001885D81CAC8>)])>"
      ]
     },
     "execution_count": 5,
     "metadata": {},
     "output_type": "execute_result"
    }
   ],
   "source": [
    "model.get_params"
   ]
  },
  {
   "cell_type": "markdown",
   "metadata": {},
   "source": [
    "#### 1.4 Infer"
   ]
  },
  {
   "cell_type": "markdown",
   "metadata": {},
   "source": [
    "Split the test data into X and y, and call the ```predict()``` method to infer."
   ]
  },
  {
   "cell_type": "code",
   "execution_count": 6,
   "metadata": {},
   "outputs": [
    {
     "data": {
      "text/html": [
       "<div>\n",
       "<style scoped>\n",
       "    .dataframe tbody tr th:only-of-type {\n",
       "        vertical-align: middle;\n",
       "    }\n",
       "\n",
       "    .dataframe tbody tr th {\n",
       "        vertical-align: top;\n",
       "    }\n",
       "\n",
       "    .dataframe thead th {\n",
       "        text-align: right;\n",
       "    }\n",
       "</style>\n",
       "<table border=\"1\" class=\"dataframe\">\n",
       "  <thead>\n",
       "    <tr style=\"text-align: right;\">\n",
       "      <th></th>\n",
       "      <th>TimeStamp</th>\n",
       "      <th>Var_1</th>\n",
       "      <th>Var_2</th>\n",
       "      <th>Var_3</th>\n",
       "      <th>Var_4</th>\n",
       "      <th>Var_5</th>\n",
       "      <th>Var_6</th>\n",
       "    </tr>\n",
       "  </thead>\n",
       "  <tbody>\n",
       "    <tr>\n",
       "      <th>2710</th>\n",
       "      <td>2021-06-23 19:00:00</td>\n",
       "      <td>1.580599</td>\n",
       "      <td>5.803027</td>\n",
       "      <td>6.339262</td>\n",
       "      <td>1.997845</td>\n",
       "      <td>68466.254953</td>\n",
       "      <td>3.615938e+05</td>\n",
       "    </tr>\n",
       "    <tr>\n",
       "      <th>2711</th>\n",
       "      <td>2021-06-23 20:00:00</td>\n",
       "      <td>2.564713</td>\n",
       "      <td>6.819843</td>\n",
       "      <td>19.643646</td>\n",
       "      <td>1.815659</td>\n",
       "      <td>25322.043751</td>\n",
       "      <td>2.768165e+05</td>\n",
       "    </tr>\n",
       "    <tr>\n",
       "      <th>2712</th>\n",
       "      <td>2021-06-23 21:00:00</td>\n",
       "      <td>2.436701</td>\n",
       "      <td>6.414492</td>\n",
       "      <td>11.427074</td>\n",
       "      <td>2.403198</td>\n",
       "      <td>268767.957348</td>\n",
       "      <td>8.900508e+05</td>\n",
       "    </tr>\n",
       "    <tr>\n",
       "      <th>2713</th>\n",
       "      <td>2021-06-23 22:00:00</td>\n",
       "      <td>2.444191</td>\n",
       "      <td>5.274575</td>\n",
       "      <td>9.378210</td>\n",
       "      <td>2.924055</td>\n",
       "      <td>53885.514664</td>\n",
       "      <td>1.774984e+06</td>\n",
       "    </tr>\n",
       "    <tr>\n",
       "      <th>2714</th>\n",
       "      <td>2021-06-23 23:00:00</td>\n",
       "      <td>2.276460</td>\n",
       "      <td>6.358713</td>\n",
       "      <td>7.335743</td>\n",
       "      <td>2.060555</td>\n",
       "      <td>118858.325416</td>\n",
       "      <td>9.228722e+05</td>\n",
       "    </tr>\n",
       "  </tbody>\n",
       "</table>\n",
       "</div>"
      ],
      "text/plain": [
       "               TimeStamp     Var_1     Var_2      Var_3     Var_4  \\\n",
       "2710 2021-06-23 19:00:00  1.580599  5.803027   6.339262  1.997845   \n",
       "2711 2021-06-23 20:00:00  2.564713  6.819843  19.643646  1.815659   \n",
       "2712 2021-06-23 21:00:00  2.436701  6.414492  11.427074  2.403198   \n",
       "2713 2021-06-23 22:00:00  2.444191  5.274575   9.378210  2.924055   \n",
       "2714 2021-06-23 23:00:00  2.276460  6.358713   7.335743  2.060555   \n",
       "\n",
       "              Var_5         Var_6  \n",
       "2710   68466.254953  3.615938e+05  \n",
       "2711   25322.043751  2.768165e+05  \n",
       "2712  268767.957348  8.900508e+05  \n",
       "2713   53885.514664  1.774984e+06  \n",
       "2714  118858.325416  9.228722e+05  "
      ]
     },
     "execution_count": 6,
     "metadata": {},
     "output_type": "execute_result"
    }
   ],
   "source": [
    "X_test, y_test = model.split_X_y(test_data.copy())\n",
    "forecast = model.predict(X_test)\n",
    "forecast.head()"
   ]
  },
  {
   "cell_type": "markdown",
   "metadata": {},
   "source": [
    "#### 1.5 Evaluation"
   ]
  },
  {
   "cell_type": "markdown",
   "metadata": {},
   "source": [
    "Call the ```evaluate``` method to perform the result evaluation, and we can observe the score under each evaluation indicator.\n",
    "\n",
    "Some default metrics scores will be returned here. If you want to observe the scores of the specified metrics, you can set the parameter metrics, such as ```metrics=['mae', 'mse', mape_func]```.\n",
    "\n",
    "Where, mape_func can be a custom evaluation function or an evaluation function from sklearn."
   ]
  },
  {
   "cell_type": "code",
   "execution_count": 7,
   "metadata": {},
   "outputs": [
    {
     "data": {
      "text/html": [
       "<div>\n",
       "<style scoped>\n",
       "    .dataframe tbody tr th:only-of-type {\n",
       "        vertical-align: middle;\n",
       "    }\n",
       "\n",
       "    .dataframe tbody tr th {\n",
       "        vertical-align: top;\n",
       "    }\n",
       "\n",
       "    .dataframe thead th {\n",
       "        text-align: right;\n",
       "    }\n",
       "</style>\n",
       "<table border=\"1\" class=\"dataframe\">\n",
       "  <thead>\n",
       "    <tr style=\"text-align: right;\">\n",
       "      <th></th>\n",
       "      <th>Metirc</th>\n",
       "      <th>Score</th>\n",
       "    </tr>\n",
       "  </thead>\n",
       "  <tbody>\n",
       "    <tr>\n",
       "      <th>0</th>\n",
       "      <td>mae</td>\n",
       "      <td>143558.9729</td>\n",
       "    </tr>\n",
       "    <tr>\n",
       "      <th>1</th>\n",
       "      <td>mse</td>\n",
       "      <td>179856088528.9392</td>\n",
       "    </tr>\n",
       "    <tr>\n",
       "      <th>2</th>\n",
       "      <td>rmse</td>\n",
       "      <td>194672.5783</td>\n",
       "    </tr>\n",
       "    <tr>\n",
       "      <th>3</th>\n",
       "      <td>mape</td>\n",
       "      <td>0.5269</td>\n",
       "    </tr>\n",
       "    <tr>\n",
       "      <th>4</th>\n",
       "      <td>smape</td>\n",
       "      <td>0.5107</td>\n",
       "    </tr>\n",
       "  </tbody>\n",
       "</table>\n",
       "</div>"
      ],
      "text/plain": [
       "  Metirc             Score\n",
       "0    mae       143558.9729\n",
       "1    mse 179856088528.9392\n",
       "2   rmse       194672.5783\n",
       "3   mape            0.5269\n",
       "4  smape            0.5107"
      ]
     },
     "execution_count": 7,
     "metadata": {},
     "output_type": "execute_result"
    }
   ],
   "source": [
    "results = model.evaluate(y_true=y_test, y_pred=forecast)\n",
    "results"
   ]
  },
  {
   "cell_type": "markdown",
   "metadata": {},
   "source": [
    "#### 1.6 Visualization"
   ]
  },
  {
   "cell_type": "markdown",
   "metadata": {},
   "source": [
    "Call the ```plot()``` method to visualize, take a look at the forecast curve, and compare it with the actual curve."
   ]
  },
  {
   "cell_type": "code",
   "execution_count": 8,
   "metadata": {},
   "outputs": [
    {
     "data": {
      "image/png": "[encoded data removed]",
      "text/plain": [
       "<Figure size 1152x432 with 1 Axes>"
      ]
     },
     "metadata": {
      "needs_background": "light"
     },
     "output_type": "display_data"
    }
   ],
   "source": [
    "model.plot(forecast=forecast, actual=test_data, var_id='Var_3', interactive=False)"
   ]
  },
  {
   "cell_type": "markdown",
   "metadata": {},
   "source": [
    "**Note**\n",
    "\n",
    "- Only the forecat curve of one variable will be displayed here, which defaults to the first target variable;\n",
    "- For multivariate forecasting task, if we want to observe other target variable curve, you can modify the parameter ```var_id```. For example: var_id=2 (i.e., index) or var_id='Var_2' (i.e., name);\n",
    "- ```plot``` supports interactive visualization by changing ```interactive=False```(default， need to install plotly);\n",
    "- To plot longer-term historical information, set the parameter ```history=sub_train_data```."
   ]
  },
  {
   "cell_type": "markdown",
   "metadata": {},
   "source": [
    "<br>"
   ]
  },
  {
   "cell_type": "markdown",
   "metadata": {},
   "source": [
    "<br>"
   ]
  },
  {
   "cell_type": "markdown",
   "metadata": {},
   "source": [
    "### 2. Classification Case"
   ]
  },
  {
   "cell_type": "markdown",
   "metadata": {},
   "source": [
    "#### 1.1 Prepare Dataset"
   ]
  },
  {
   "cell_type": "markdown",
   "metadata": {},
   "source": [
    "If you have doubts about the data format of HyperTS, please refer to the introduction in [01_datatypes_for_hyperts.ipynb](https://github.com/DataCanvasIO/HyperTS/blob/main/examples/01_datatypes_for_hyperts.ipynb)."
   ]
  },
  {
   "cell_type": "code",
   "execution_count": 1,
   "metadata": {},
   "outputs": [],
   "source": [
    "from hyperts.datasets import load_basic_motions\n",
    "from sklearn.model_selection import train_test_split"
   ]
  },
  {
   "cell_type": "code",
   "execution_count": 2,
   "metadata": {},
   "outputs": [],
   "source": [
    "df = load_basic_motions()\n",
    "train_df, test_df = train_test_split(df, test_size=0.2)"
   ]
  },
  {
   "cell_type": "markdown",
   "metadata": {},
   "source": [
    "In this case dataset, we expose some basic information for reference, as follows:\n",
    "\n",
    "- feature columns: ['Var_1', 'Var_2', 'Var_3', 'Var_4', 'Var_5', 'Var_6'];\n",
    "- target column: 'target'."
   ]
  },
  {
   "cell_type": "markdown",
   "metadata": {},
   "source": [
    "#### 1.2 Create Experiment and Run"
   ]
  },
  {
   "cell_type": "markdown",
   "metadata": {},
   "source": [
    "We search for a time series model by creating ```make_experiment```, and call the ```run()``` method to perform the experiment."
   ]
  },
  {
   "cell_type": "code",
   "execution_count": 3,
   "metadata": {},
   "outputs": [],
   "source": [
    "from hyperts import make_experiment"
   ]
  },
  {
   "cell_type": "code",
   "execution_count": 4,
   "metadata": {},
   "outputs": [
    {
     "name": "stdout",
     "output_type": "stream",
     "text": [
      "\n"
     ]
    }
   ],
   "source": [
    "experiment = make_experiment(train_data=train_df.copy(), task='classification', mode='stats', target='target')\n",
    "\n",
    "model = experiment.run()"
   ]
  },
  {
   "cell_type": "markdown",
   "metadata": {},
   "source": [
    "#### 1.3 Print Pipeline Model"
   ]
  },
  {
   "cell_type": "code",
   "execution_count": 5,
   "metadata": {},
   "outputs": [
    {
     "data": {
      "text/plain": [
       "<bound method Pipeline.get_params of Pipeline(steps=[('data_preprocessing',\n",
       "                 TSCDataPreprocessStep(data_cleaner_args={'drop_label_nan_rows': True},\n",
       "                                       name='data_preprocessing')),\n",
       "                ('estimator',\n",
       "                 <hyperts.hyper_ts.HyperTSEstimator object at 0x000001CDC2318C18>)])>"
      ]
     },
     "execution_count": 5,
     "metadata": {},
     "output_type": "execute_result"
    }
   ],
   "source": [
    "model.get_params"
   ]
  },
  {
   "cell_type": "markdown",
   "metadata": {},
   "source": [
    "#### 1.4 Infer"
   ]
  },
  {
   "cell_type": "markdown",
   "metadata": {},
   "source": [
    "Split the test data into X and y, and call the ```predict()``` method to infer."
   ]
  },
  {
   "cell_type": "code",
   "execution_count": 6,
   "metadata": {},
   "outputs": [],
   "source": [
    "X_test, y_test = model.split_X_y(test_df.copy())\n",
    "y_pred = model.predict(X_test)\n",
    "y_proba = model.predict_proba(X_test)"
   ]
  },
  {
   "cell_type": "code",
   "execution_count": 7,
   "metadata": {},
   "outputs": [
    {
     "data": {
      "text/plain": [
       "array(['badminton', 'walking', 'standing', 'badminton', 'walking',\n",
       "       'walking', 'walking', 'badminton', 'standing', 'running',\n",
       "       'badminton', 'walking', 'walking', 'running', 'standing',\n",
       "       'standing'], dtype=object)"
      ]
     },
     "execution_count": 7,
     "metadata": {},
     "output_type": "execute_result"
    }
   ],
   "source": [
    "y_pred"
   ]
  },
  {
   "cell_type": "markdown",
   "metadata": {},
   "source": [
    "#### 1.5 Evaluation"
   ]
  },
  {
   "cell_type": "markdown",
   "metadata": {},
   "source": [
    "Call the ```evaluate``` method to perform the result evaluation, and we can observe the score under each evaluation indicator.\n",
    "\n",
    "Some default metrics scores will be returned here. If you want to observe the scores of the specified metrics, you can set the parameter metrics, such as ```metrics=['accuracy', 'auc', f1_func]```.\n",
    "\n",
    "Where, mape_func can be a custom evaluation function or an evaluation function from sklearn."
   ]
  },
  {
   "cell_type": "code",
   "execution_count": 8,
   "metadata": {},
   "outputs": [
    {
     "data": {
      "text/html": [
       "<div>\n",
       "<style scoped>\n",
       "    .dataframe tbody tr th:only-of-type {\n",
       "        vertical-align: middle;\n",
       "    }\n",
       "\n",
       "    .dataframe tbody tr th {\n",
       "        vertical-align: top;\n",
       "    }\n",
       "\n",
       "    .dataframe thead th {\n",
       "        text-align: right;\n",
       "    }\n",
       "</style>\n",
       "<table border=\"1\" class=\"dataframe\">\n",
       "  <thead>\n",
       "    <tr style=\"text-align: right;\">\n",
       "      <th></th>\n",
       "      <th>Metirc</th>\n",
       "      <th>Score</th>\n",
       "    </tr>\n",
       "  </thead>\n",
       "  <tbody>\n",
       "    <tr>\n",
       "      <th>0</th>\n",
       "      <td>accuracy</td>\n",
       "      <td>1.0000</td>\n",
       "    </tr>\n",
       "    <tr>\n",
       "      <th>1</th>\n",
       "      <td>f1</td>\n",
       "      <td>1.0000</td>\n",
       "    </tr>\n",
       "    <tr>\n",
       "      <th>2</th>\n",
       "      <td>precision</td>\n",
       "      <td>1.0000</td>\n",
       "    </tr>\n",
       "    <tr>\n",
       "      <th>3</th>\n",
       "      <td>recall</td>\n",
       "      <td>1.0000</td>\n",
       "    </tr>\n",
       "  </tbody>\n",
       "</table>\n",
       "</div>"
      ],
      "text/plain": [
       "      Metirc  Score\n",
       "0   accuracy 1.0000\n",
       "1         f1 1.0000\n",
       "2  precision 1.0000\n",
       "3     recall 1.0000"
      ]
     },
     "execution_count": 8,
     "metadata": {},
     "output_type": "execute_result"
    }
   ],
   "source": [
    "results = model.evaluate(y_true=y_test, y_pred=y_pred, y_proba=y_proba)\n",
    "results"
   ]
  }
 ],
 "metadata": {
  "kernelspec": {
   "display_name": "Python 3 (ipykernel)",
   "language": "python",
   "name": "python3"
  },
  "language_info": {
   "codemirror_mode": {
    "name": "ipython",
    "version": 3
   },
   "file_extension": ".py",
   "mimetype": "text/x-python",
   "name": "python",
   "nbconvert_exporter": "python",
   "pygments_lexer": "ipython3",
   "version": "3.7.3"
  }
 },
 "nbformat": 4,
 "nbformat_minor": 1
}
